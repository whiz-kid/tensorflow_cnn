{
 "cells": [
  {
   "cell_type": "code",
   "execution_count": 1,
   "metadata": {
    "collapsed": true
   },
   "outputs": [],
   "source": [
    "import tensorflow as tf\n",
    "import numpy as np"
   ]
  },
  {
   "cell_type": "code",
   "execution_count": 2,
   "metadata": {
    "collapsed": true
   },
   "outputs": [],
   "source": [
    "def convert_image_to_tensor(file_name):\n",
    "    input_height=28\n",
    "    input_width=28\n",
    "    input_mean=128\n",
    "    input_std=128\n",
    "    \n",
    "    file_reader=tf.read_file(file_name)\n",
    "    image_reader = tf.image.decode_jpeg(file_reader, channels = 1,name='jpeg_reader')\n",
    "    float_caster = tf.cast(image_reader,tf.float32)\n",
    "    resized = tf.image.resize_images(float_caster,[input_height,input_width])\n",
    "    normalized = tf.divide(tf.subtract(resized, [input_mean]), [input_std])\n",
    "    \n",
    "    with tf.Session() as sess:\n",
    "        # print(sess.run(tf.shape(normalized)))\n",
    "        return sess.run(normalized)"
   ]
  },
  {
   "cell_type": "code",
   "execution_count": 4,
   "metadata": {},
   "outputs": [
    {
     "name": "stdout",
     "output_type": "stream",
     "text": [
      "INFO:tensorflow:Restoring parameters from ./cats-dogs-model\n",
      "[[ 0.07825063  0.92174941]]\n"
     ]
    }
   ],
   "source": [
    "target_image = '/home/iiita/Documents/HashtagGen-master/cat.jpg'\n",
    "image_tensor = convert_image_to_tensor(target_image)\n",
    "images=[]\n",
    "images.append(image_tensor)\n",
    "images = np.array(images,dtype=np.uint8)\n",
    "images = images.astype('float32')\n",
    "sess = tf.Session()\n",
    "saver = tf.train.import_meta_graph('cats-dogs-model.meta')\n",
    "saver.restore(sess, tf.train.latest_checkpoint('./'))\n",
    "graph = tf.get_default_graph()\n",
    "y_pred = graph.get_tensor_by_name('y_pred:0')\n",
    "x= graph.get_tensor_by_name(\"x:0\")\n",
    "# y_ = graph.get_tensor_by_name(\"y_:0\") \n",
    "# y_test_images = np.zeros((1, 2)) \n",
    "sess.run(tf.global_variables_initializer())\n",
    "result=sess.run(y_pred, feed_dict={x:images})\n",
    "print(result)"
   ]
  },
  {
   "cell_type": "code",
   "execution_count": null,
   "metadata": {
    "collapsed": true
   },
   "outputs": [],
   "source": []
  },
  {
   "cell_type": "code",
   "execution_count": null,
   "metadata": {
    "collapsed": true
   },
   "outputs": [],
   "source": []
  }
 ],
 "metadata": {
  "kernelspec": {
   "display_name": "Python 2",
   "language": "python",
   "name": "python2"
  },
  "language_info": {
   "codemirror_mode": {
    "name": "ipython",
    "version": 2
   },
   "file_extension": ".py",
   "mimetype": "text/x-python",
   "name": "python",
   "nbconvert_exporter": "python",
   "pygments_lexer": "ipython2",
   "version": "2.7.10"
  }
 },
 "nbformat": 4,
 "nbformat_minor": 2
}
